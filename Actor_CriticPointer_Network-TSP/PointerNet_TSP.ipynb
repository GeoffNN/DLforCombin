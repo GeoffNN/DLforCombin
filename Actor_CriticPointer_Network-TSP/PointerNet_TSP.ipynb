{
 "cells": [
  {
   "cell_type": "code",
   "execution_count": 1,
   "metadata": {},
   "outputs": [],
   "source": [
    "import tensorflow as tf\n",
    "import numpy as np\n",
    "import tsp_env"
   ]
  },
  {
   "cell_type": "code",
   "execution_count": 2,
   "metadata": {},
   "outputs": [],
   "source": [
    "hidden_size = 128\n",
    "embedding_size = 128\n",
    "max_time_steps = 10; input_size = 2;\n",
    "batch_size = 128\n",
    "initialization_stddev = 0.1"
   ]
  },
  {
   "cell_type": "code",
   "execution_count": 3,
   "metadata": {
    "scrolled": false
   },
   "outputs": [],
   "source": [
    "enc_inputs = tf.placeholder(tf.float32, [batch_size, max_time_steps, input_size])\n",
    "W_embed = tf.Variable(tf.random_normal([embedding_size, input_size],\n",
    "                                       stddev=initialization_stddev))\n",
    "embedded_inputs = tf.einsum('kl,itl->itk', W_embed, enc_inputs)"
   ]
  },
  {
   "cell_type": "code",
   "execution_count": 4,
   "metadata": {
    "scrolled": false
   },
   "outputs": [],
   "source": [
    "with tf.variable_scope(\"encoder\"):\n",
    "    enc_rnn_cell = tf.nn.rnn_cell.LSTMCell(hidden_size)\n",
    "    enc_outputs, enc_final_state = tf.nn.dynamic_rnn(cell=enc_rnn_cell, \n",
    "                                                     inputs=embedded_inputs,\n",
    "                                                     dtype=tf.float32)"
   ]
  },
  {
   "cell_type": "code",
   "execution_count": 5,
   "metadata": {},
   "outputs": [],
   "source": [
    "def attention_mask(W_ref, W_q, v, enc_outputs, query, already_played_actions=None, \n",
    "                   already_played_penalty=1e6):\n",
    "    with tf.variable_scope(\"attention_mask\"):\n",
    "        u_i0s = tf.einsum('kl,itl->itk', W_ref, enc_outputs)\n",
    "        u_i1s = tf.expand_dims(tf.einsum('kl,il->ik', W_q, query), 1)\n",
    "        u_is = tf.einsum('k,itk->it', v, tf.tanh(u_i0s + u_i1s)) - already_played_penalty * already_played_actions\n",
    "        return u_is, tf.nn.softmax(u_is)"
   ]
  },
  {
   "cell_type": "code",
   "execution_count": 6,
   "metadata": {},
   "outputs": [],
   "source": [
    "with tf.variable_scope(\"decoder\"):\n",
    "    decoder_cell = tf.nn.rnn_cell.LSTMCell(hidden_size)\n",
    "    decoder_state = [enc_final_state]\n",
    "    first_decoder_input = tf.tile(tf.Variable(tf.random_normal([1, embedding_size]), \n",
    "                                      name='first_decoder_input'), [batch_size, 1])\n",
    "    \n",
    "    decoder_targets = tf.placeholder(dtype=tf.int32, shape=[batch_size, max_time_steps])\n",
    "    \n",
    "    with tf.variable_scope(\"attention_weights\", reuse=True):\n",
    "        W_ref = tf.Variable(tf.random_normal([embedding_size, embedding_size],\n",
    "                                             stddev=initialization_stddev),\n",
    "                           name='W_ref')\n",
    "        W_q = tf.Variable(tf.random_normal([embedding_size, embedding_size],\n",
    "                                           stddev=initialization_stddev),\n",
    "                         name='W_q')\n",
    "        v = tf.Variable(tf.random_normal([embedding_size], stddev=initialization_stddev),\n",
    "                        name='v')\n",
    "    \n",
    "    # Training chain\n",
    "    loss = 0\n",
    "    decoder_input = first_decoder_input\n",
    "    decoder_state = enc_final_state\n",
    "    already_played_actions = tf.zeros(shape=[batch_size, max_time_steps], dtype=tf.float32)\n",
    "    decoder_inputs = [decoder_input]\n",
    "    for t in range(max_time_steps):\n",
    "        dec_cell_output, decoder_state = decoder_cell(inputs=decoder_input, \n",
    "                                          state=decoder_state)\n",
    "        attn_logits, _ = attention_mask(W_ref, W_q, v, enc_outputs, dec_cell_output,\n",
    "                                        already_played_actions=already_played_actions,\n",
    "                                        already_played_penalty=1e6)\n",
    "        loss += tf.reduce_sum(tf.nn.softmax_cross_entropy_with_logits(labels=tf.one_hot(decoder_targets[:, t],\n",
    "                                                                          depth=max_time_steps),\n",
    "                                                        logits=attn_logits))\n",
    "        loss_summary_sy = tf.summary.scalar('training_loss', loss)\n",
    "\n",
    "        # Teacher forcing of the next input\n",
    "        decoder_input = tf.einsum('itk,it->ik', embedded_inputs,\n",
    "                                  tf.one_hot(decoder_targets[:, t], depth=max_time_steps))\n",
    "        decoder_inputs.append(decoder_input)\n",
    "        already_played_actions += tf.one_hot(decoder_targets[:, t], depth=max_time_steps)\n",
    "    \n",
    "    # Inference chain\n",
    "    decoder_input = first_decoder_input\n",
    "    decoder_state = enc_final_state\n",
    "    decoder_outputs = []\n",
    "    already_played_actions = tf.zeros(shape=[batch_size, max_time_steps], dtype=tf.float32)\n",
    "    for t in range(max_time_steps):\n",
    "        dec_cell_output, decoder_state = decoder_cell(inputs=decoder_input,\n",
    "                                                      state=decoder_state)\n",
    "        _, attn_mask = attention_mask(W_ref, W_q, v, enc_outputs, dec_cell_output,\n",
    "                                      already_played_actions=already_played_actions,\n",
    "                                      already_played_penalty=1e6)\n",
    "        decoder_outputs.append(tf.argmax(attn_mask, axis=1))\n",
    "        decoder_input = tf.einsum('itk,it->ik', embedded_inputs, attn_mask)\n",
    "        already_played_actions += tf.one_hot(decoder_outputs[-1], depth=max_time_steps)"
   ]
  },
  {
   "cell_type": "code",
   "execution_count": 8,
   "metadata": {},
   "outputs": [],
   "source": [
    "optimizer = tf.train.AdamOptimizer(1e-2)\n",
    "train_op = optimizer.minimize(loss)"
   ]
  },
  {
   "cell_type": "code",
   "execution_count": 9,
   "metadata": {},
   "outputs": [],
   "source": [
    "# Generate a batch of data\n",
    "def generate_batch(n_cities, batch_size):\n",
    "    inputs_list = []; labels_list = []\n",
    "    env = tsp_env.TSP_env(n_cities, use_alternative_state=True)\n",
    "    for i in range(batch_size):\n",
    "        env.reset()\n",
    "        s = env.reset()\n",
    "        coords = s.reshape([4, n_cities])[:2, ].T\n",
    "        inputs_list.append(coords)\n",
    "        labels_list.append(env.optimal_solution()[1])\n",
    "    return np.array(inputs_list), np.array(labels_list)"
   ]
  },
  {
   "cell_type": "code",
   "execution_count": 10,
   "metadata": {},
   "outputs": [],
   "source": [
    "sess = tf.InteractiveSession()\n",
    "tf.global_variables_initializer().run()\n",
    "log_files_name = 'PointerNet-TSP5'\n",
    "writer = tf.summary.FileWriter('/tmp/' + log_files_name, sess.graph)"
   ]
  },
  {
   "cell_type": "code",
   "execution_count": 11,
   "metadata": {
    "scrolled": false
   },
   "outputs": [
    {
     "name": "stdout",
     "output_type": "stream",
     "text": [
      "1932.71\n",
      "1.84706581207\n",
      "1164.02\n",
      "1.43337082941\n",
      "843.223\n",
      "1.23827504926\n",
      "516.45\n",
      "1.08655902801\n",
      "539.293\n",
      "1.05318710247\n",
      "442.764\n",
      "1.07505060358\n",
      "441.321\n",
      "1.05859506978\n",
      "429.605\n",
      "1.09639691263\n",
      "414.12\n",
      "1.06063726765\n",
      "407.63\n",
      "1.06324440677\n",
      "406.542\n",
      "1.0674630074\n",
      "394.631\n",
      "1.06518062815\n",
      "433.739\n",
      "1.05594344493\n",
      "403.762\n",
      "1.05361630671\n",
      "368.75\n",
      "1.06584705366\n",
      "449.005\n",
      "1.05865283626\n",
      "370.119\n",
      "1.05501567571\n",
      "394.252\n",
      "1.0631991011\n",
      "363.634\n",
      "1.04804667828\n",
      "424.288\n",
      "1.05605431789\n"
     ]
    },
    {
     "data": {
      "text/plain": [
       "[<matplotlib.lines.Line2D at 0x7f3d3cc9a908>]"
      ]
     },
     "execution_count": 11,
     "metadata": {},
     "output_type": "execute_result"
    },
    {
     "data": {
      "image/png": "[encoded data removed]",
      "text/plain": [
       "<matplotlib.figure.Figure at 0x7f3d475d9588>"
      ]
     },
     "metadata": {},
     "output_type": "display_data"
    }
   ],
   "source": [
    "n_cities = 10\n",
    "\n",
    "loss_vals = []\n",
    "mean_approx_ratios = []\n",
    "for i in range(2000):\n",
    "    inputs_batch, labels_batch = generate_batch(n_cities, batch_size)\n",
    "    loss_summary, loss_val, _ = sess.run([loss_summary_sy, loss, train_op], feed_dict={enc_inputs: inputs_batch, \n",
    "                                                        decoder_targets: labels_batch})\n",
    "    loss_vals.append(loss_val)\n",
    "    \n",
    "    # Add training loss to tensorboard logs\n",
    "    if i % 100 == 0:\n",
    "        writer.add_summary(loss_summary, i)\n",
    "        writer.flush()\n",
    "        print(loss_vals[-1])\n",
    "        \n",
    "    # Test accuracy\n",
    "    if i % 100 == 0:\n",
    "        envs = []\n",
    "        inputs_list = []\n",
    "        optimal_rewards = []\n",
    "        optimal_tours = []\n",
    "        # Generate and initialize a batch of environments\n",
    "        for i in range(batch_size):\n",
    "            envs.append(tsp_env.TSP_env(n_cities, use_alternative_state=True))\n",
    "            envs[-1].reset()\n",
    "            inputs_list.append(envs[-1].nodes)\n",
    "            optimal_solution = envs[-1].optimal_solution()\n",
    "            optimal_rewards.append(optimal_solution[0])\n",
    "            optimal_tours.append(optimal_solution[1])\n",
    "        inputs_batch = np.array(inputs_list)\n",
    "        # Use the PointerNet on this test batch and get its predictions\n",
    "        predicted_outputs = np.array(sess.run(decoder_outputs, \n",
    "                                              feed_dict={enc_inputs: inputs_batch})).T\n",
    "        # Compute the rewards corresponding to the predicted tours\n",
    "        rewards = []\n",
    "        for i in range(batch_size):\n",
    "            for action in predicted_outputs[i]:\n",
    "                envs[i].step(action)\n",
    "            rewards.append(envs[i].accumulated_reward())\n",
    "        # Get the approximation ratio of the predictions\n",
    "        approximation_ratios = np.array(rewards) / np.array(optimal_rewards)\n",
    "        mean_approx_ratios.append(np.mean(approximation_ratios))\n",
    "        print(mean_approx_ratios[-1])\n",
    "\n",
    "# Plot the training losses\n",
    "import matplotlib.pyplot as plt\n",
    "%matplotlib inline\n",
    "plt.plot(loss_vals)"
   ]
  },
  {
   "cell_type": "code",
   "execution_count": null,
   "metadata": {},
   "outputs": [],
   "source": []
  }
 ],
 "metadata": {
  "kernelspec": {
   "display_name": "Python 3",
   "language": "python",
   "name": "python3"
  },
  "language_info": {
   "codemirror_mode": {
    "name": "ipython",
    "version": 3
   },
   "file_extension": ".py",
   "mimetype": "text/x-python",
   "name": "python",
   "nbconvert_exporter": "python",
   "pygments_lexer": "ipython3",
   "version": "3.5.2"
  }
 },
 "nbformat": 4,
 "nbformat_minor": 2
}

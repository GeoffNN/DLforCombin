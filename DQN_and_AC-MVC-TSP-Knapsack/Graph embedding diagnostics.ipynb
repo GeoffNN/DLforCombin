{
 "cells": [
  {
   "cell_type": "code",
   "execution_count": 1,
   "metadata": {},
   "outputs": [],
   "source": [
    "import tensorflow as tf\n",
    "import numpy as np\n",
    "import tsp_env\n",
    "import mvc_env"
   ]
  },
  {
   "cell_type": "code",
   "execution_count": 2,
   "metadata": {},
   "outputs": [
    {
     "name": "stdout",
     "output_type": "stream",
     "text": [
      "INFO:tensorflow:Restoring parameters from /tmp/saved_models/PG_MVC-sz=32-b=1000-12-02-2017-14:04:04-26\n"
     ]
    }
   ],
   "source": [
    "sess = tf.InteractiveSession()\n",
    "saver = tf.train.import_meta_graph('/tmp/saved_models/PG_MVC-sz=32-b=1000-12-02-2017-14:04:04-25.meta')\n",
    "saver.restore(sess, tf.train.latest_checkpoint('/tmp/saved_models/'))"
   ]
  },
  {
   "cell_type": "code",
   "execution_count": null,
   "metadata": {},
   "outputs": [],
   "source": []
  },
  {
   "cell_type": "code",
   "execution_count": 3,
   "metadata": {},
   "outputs": [],
   "source": [
    "graph = tf.get_default_graph()\n",
    "sy_ob_no = graph.get_tensor_by_name('ob:0')\n",
    "sy_ac_na = graph.get_tensor_by_name('ac:0')\n",
    "sy_adv_n = graph.get_tensor_by_name('adv:0')\n",
    "adj_ph = graph.get_tensor_by_name('adj_ph:0')\n",
    "graph_weights_ph = graph.get_tensor_by_name('graph_weights_ph:0')"
   ]
  },
  {
   "cell_type": "code",
   "execution_count": 4,
   "metadata": {},
   "outputs": [],
   "source": [
    "pi = graph.get_tensor_by_name('nn_actions/Q:0')"
   ]
  },
  {
   "cell_type": "code",
   "execution_count": 5,
   "metadata": {},
   "outputs": [
    {
     "data": {
      "text/plain": [
       "array([ 0.,  0.,  0.,  0.,  0.,  0.,  0.])"
      ]
     },
     "execution_count": 5,
     "metadata": {},
     "output_type": "execute_result"
    }
   ],
   "source": [
    "env = mvc_env.MVC_env(7, replay_penalty=2)\n",
    "env.reset()"
   ]
  },
  {
   "cell_type": "code",
   "execution_count": 6,
   "metadata": {},
   "outputs": [
    {
     "data": {
      "text/plain": [
       "matrix([[ 0.,  0.,  0.,  0.,  1.,  0.,  0.],\n",
       "        [ 0.,  0.,  0.,  0.,  0.,  0.,  1.],\n",
       "        [ 0.,  0.,  0.,  0.,  0.,  0.,  0.],\n",
       "        [ 0.,  0.,  0.,  0.,  0.,  0.,  0.],\n",
       "        [ 1.,  0.,  0.,  0.,  0.,  0.,  0.],\n",
       "        [ 0.,  0.,  0.,  0.,  0.,  0.,  0.],\n",
       "        [ 0.,  1.,  0.,  0.,  0.,  0.,  0.]])"
      ]
     },
     "execution_count": 6,
     "metadata": {},
     "output_type": "execute_result"
    }
   ],
   "source": [
    "env.weight_matrix"
   ]
  },
  {
   "cell_type": "code",
   "execution_count": 7,
   "metadata": {},
   "outputs": [],
   "source": [
    "sess = tf.InteractiveSession()"
   ]
  },
  {
   "cell_type": "code",
   "execution_count": 8,
   "metadata": {
    "scrolled": false
   },
   "outputs": [
    {
     "ename": "FailedPreconditionError",
     "evalue": "Attempting to use uninitialized value nn_actions/thetas/theta1\n\t [[Node: nn_actions/thetas/theta1/read = Identity[T=DT_FLOAT, _class=[\"loc:@nn_actions/thetas/theta1\"], _device=\"/job:localhost/replica:0/task:0/cpu:0\"](nn_actions/thetas/theta1)]]\n\nCaused by op 'nn_actions/thetas/theta1/read', defined at:\n  File \"/usr/lib/python3.5/runpy.py\", line 184, in _run_module_as_main\n    \"__main__\", mod_spec)\n  File \"/usr/lib/python3.5/runpy.py\", line 85, in _run_code\n    exec(code, run_globals)\n  File \"/home/aurelien/aurelien.bibaut@gmail.com/Data_PC/PhD_Berkeley/Courses/Deep_Reinforcement_Learning/deep_rl2/lib/python3.5/site-packages/ipykernel_launcher.py\", line 16, in <module>\n    app.launch_new_instance()\n  File \"/home/aurelien/aurelien.bibaut@gmail.com/Data_PC/PhD_Berkeley/Courses/Deep_Reinforcement_Learning/deep_rl2/lib/python3.5/site-packages/traitlets/config/application.py\", line 658, in launch_instance\n    app.start()\n  File \"/home/aurelien/aurelien.bibaut@gmail.com/Data_PC/PhD_Berkeley/Courses/Deep_Reinforcement_Learning/deep_rl2/lib/python3.5/site-packages/ipykernel/kernelapp.py\", line 477, in start\n    ioloop.IOLoop.instance().start()\n  File \"/home/aurelien/aurelien.bibaut@gmail.com/Data_PC/PhD_Berkeley/Courses/Deep_Reinforcement_Learning/deep_rl2/lib/python3.5/site-packages/zmq/eventloop/ioloop.py\", line 177, in start\n    super(ZMQIOLoop, self).start()\n  File \"/home/aurelien/aurelien.bibaut@gmail.com/Data_PC/PhD_Berkeley/Courses/Deep_Reinforcement_Learning/deep_rl2/lib/python3.5/site-packages/tornado/ioloop.py\", line 888, in start\n    handler_func(fd_obj, events)\n  File \"/home/aurelien/aurelien.bibaut@gmail.com/Data_PC/PhD_Berkeley/Courses/Deep_Reinforcement_Learning/deep_rl2/lib/python3.5/site-packages/tornado/stack_context.py\", line 277, in null_wrapper\n    return fn(*args, **kwargs)\n  File \"/home/aurelien/aurelien.bibaut@gmail.com/Data_PC/PhD_Berkeley/Courses/Deep_Reinforcement_Learning/deep_rl2/lib/python3.5/site-packages/zmq/eventloop/zmqstream.py\", line 440, in _handle_events\n    self._handle_recv()\n  File \"/home/aurelien/aurelien.bibaut@gmail.com/Data_PC/PhD_Berkeley/Courses/Deep_Reinforcement_Learning/deep_rl2/lib/python3.5/site-packages/zmq/eventloop/zmqstream.py\", line 472, in _handle_recv\n    self._run_callback(callback, msg)\n  File \"/home/aurelien/aurelien.bibaut@gmail.com/Data_PC/PhD_Berkeley/Courses/Deep_Reinforcement_Learning/deep_rl2/lib/python3.5/site-packages/zmq/eventloop/zmqstream.py\", line 414, in _run_callback\n    callback(*args, **kwargs)\n  File \"/home/aurelien/aurelien.bibaut@gmail.com/Data_PC/PhD_Berkeley/Courses/Deep_Reinforcement_Learning/deep_rl2/lib/python3.5/site-packages/tornado/stack_context.py\", line 277, in null_wrapper\n    return fn(*args, **kwargs)\n  File \"/home/aurelien/aurelien.bibaut@gmail.com/Data_PC/PhD_Berkeley/Courses/Deep_Reinforcement_Learning/deep_rl2/lib/python3.5/site-packages/ipykernel/kernelbase.py\", line 283, in dispatcher\n    return self.dispatch_shell(stream, msg)\n  File \"/home/aurelien/aurelien.bibaut@gmail.com/Data_PC/PhD_Berkeley/Courses/Deep_Reinforcement_Learning/deep_rl2/lib/python3.5/site-packages/ipykernel/kernelbase.py\", line 235, in dispatch_shell\n    handler(stream, idents, msg)\n  File \"/home/aurelien/aurelien.bibaut@gmail.com/Data_PC/PhD_Berkeley/Courses/Deep_Reinforcement_Learning/deep_rl2/lib/python3.5/site-packages/ipykernel/kernelbase.py\", line 399, in execute_request\n    user_expressions, allow_stdin)\n  File \"/home/aurelien/aurelien.bibaut@gmail.com/Data_PC/PhD_Berkeley/Courses/Deep_Reinforcement_Learning/deep_rl2/lib/python3.5/site-packages/ipykernel/ipkernel.py\", line 196, in do_execute\n    res = shell.run_cell(code, store_history=store_history, silent=silent)\n  File \"/home/aurelien/aurelien.bibaut@gmail.com/Data_PC/PhD_Berkeley/Courses/Deep_Reinforcement_Learning/deep_rl2/lib/python3.5/site-packages/ipykernel/zmqshell.py\", line 533, in run_cell\n    return super(ZMQInteractiveShell, self).run_cell(*args, **kwargs)\n  File \"/home/aurelien/aurelien.bibaut@gmail.com/Data_PC/PhD_Berkeley/Courses/Deep_Reinforcement_Learning/deep_rl2/lib/python3.5/site-packages/IPython/core/interactiveshell.py\", line 2728, in run_cell\n    interactivity=interactivity, compiler=compiler, result=result)\n  File \"/home/aurelien/aurelien.bibaut@gmail.com/Data_PC/PhD_Berkeley/Courses/Deep_Reinforcement_Learning/deep_rl2/lib/python3.5/site-packages/IPython/core/interactiveshell.py\", line 2850, in run_ast_nodes\n    if self.run_code(code, result):\n  File \"/home/aurelien/aurelien.bibaut@gmail.com/Data_PC/PhD_Berkeley/Courses/Deep_Reinforcement_Learning/deep_rl2/lib/python3.5/site-packages/IPython/core/interactiveshell.py\", line 2910, in run_code\n    exec(code_obj, self.user_global_ns, self.user_ns)\n  File \"<ipython-input-2-7e7d49074859>\", line 2, in <module>\n    saver = tf.train.import_meta_graph('/tmp/saved_models/PG_MVC-sz=32-b=1000-12-02-2017-14:04:04-25.meta')\n  File \"/home/aurelien/aurelien.bibaut@gmail.com/Data_PC/PhD_Berkeley/Courses/Deep_Reinforcement_Learning/deep_rl2/lib/python3.5/site-packages/tensorflow/python/training/saver.py\", line 1698, in import_meta_graph\n    **kwargs)\n  File \"/home/aurelien/aurelien.bibaut@gmail.com/Data_PC/PhD_Berkeley/Courses/Deep_Reinforcement_Learning/deep_rl2/lib/python3.5/site-packages/tensorflow/python/framework/meta_graph.py\", line 656, in import_scoped_meta_graph\n    producer_op_list=producer_op_list)\n  File \"/home/aurelien/aurelien.bibaut@gmail.com/Data_PC/PhD_Berkeley/Courses/Deep_Reinforcement_Learning/deep_rl2/lib/python3.5/site-packages/tensorflow/python/framework/importer.py\", line 313, in import_graph_def\n    op_def=op_def)\n  File \"/home/aurelien/aurelien.bibaut@gmail.com/Data_PC/PhD_Berkeley/Courses/Deep_Reinforcement_Learning/deep_rl2/lib/python3.5/site-packages/tensorflow/python/framework/ops.py\", line 2630, in create_op\n    original_op=self._default_original_op, op_def=op_def)\n  File \"/home/aurelien/aurelien.bibaut@gmail.com/Data_PC/PhD_Berkeley/Courses/Deep_Reinforcement_Learning/deep_rl2/lib/python3.5/site-packages/tensorflow/python/framework/ops.py\", line 1204, in __init__\n    self._traceback = self._graph._extract_stack()  # pylint: disable=protected-access\n\nFailedPreconditionError (see above for traceback): Attempting to use uninitialized value nn_actions/thetas/theta1\n\t [[Node: nn_actions/thetas/theta1/read = Identity[T=DT_FLOAT, _class=[\"loc:@nn_actions/thetas/theta1\"], _device=\"/job:localhost/replica:0/task:0/cpu:0\"](nn_actions/thetas/theta1)]]\n",
     "output_type": "error",
     "traceback": [
      "\u001b[0;31m---------------------------------------------------------------------------\u001b[0m",
      "\u001b[0;31mFailedPreconditionError\u001b[0m                   Traceback (most recent call last)",
      "\u001b[0;32m~/aurelien.bibaut@gmail.com/Data_PC/PhD_Berkeley/Courses/Deep_Reinforcement_Learning/deep_rl2/lib/python3.5/site-packages/tensorflow/python/client/session.py\u001b[0m in \u001b[0;36m_do_call\u001b[0;34m(self, fn, *args)\u001b[0m\n\u001b[1;32m   1326\u001b[0m     \u001b[0;32mtry\u001b[0m\u001b[0;34m:\u001b[0m\u001b[0;34m\u001b[0m\u001b[0m\n\u001b[0;32m-> 1327\u001b[0;31m       \u001b[0;32mreturn\u001b[0m \u001b[0mfn\u001b[0m\u001b[0;34m(\u001b[0m\u001b[0;34m*\u001b[0m\u001b[0margs\u001b[0m\u001b[0;34m)\u001b[0m\u001b[0;34m\u001b[0m\u001b[0m\n\u001b[0m\u001b[1;32m   1328\u001b[0m     \u001b[0;32mexcept\u001b[0m \u001b[0merrors\u001b[0m\u001b[0;34m.\u001b[0m\u001b[0mOpError\u001b[0m \u001b[0;32mas\u001b[0m \u001b[0me\u001b[0m\u001b[0;34m:\u001b[0m\u001b[0;34m\u001b[0m\u001b[0m\n",
      "\u001b[0;32m~/aurelien.bibaut@gmail.com/Data_PC/PhD_Berkeley/Courses/Deep_Reinforcement_Learning/deep_rl2/lib/python3.5/site-packages/tensorflow/python/client/session.py\u001b[0m in \u001b[0;36m_run_fn\u001b[0;34m(session, feed_dict, fetch_list, target_list, options, run_metadata)\u001b[0m\n\u001b[1;32m   1305\u001b[0m                                    \u001b[0mfeed_dict\u001b[0m\u001b[0;34m,\u001b[0m \u001b[0mfetch_list\u001b[0m\u001b[0;34m,\u001b[0m \u001b[0mtarget_list\u001b[0m\u001b[0;34m,\u001b[0m\u001b[0;34m\u001b[0m\u001b[0m\n\u001b[0;32m-> 1306\u001b[0;31m                                    status, run_metadata)\n\u001b[0m\u001b[1;32m   1307\u001b[0m \u001b[0;34m\u001b[0m\u001b[0m\n",
      "\u001b[0;32m/usr/lib/python3.5/contextlib.py\u001b[0m in \u001b[0;36m__exit__\u001b[0;34m(self, type, value, traceback)\u001b[0m\n\u001b[1;32m     65\u001b[0m             \u001b[0;32mtry\u001b[0m\u001b[0;34m:\u001b[0m\u001b[0;34m\u001b[0m\u001b[0m\n\u001b[0;32m---> 66\u001b[0;31m                 \u001b[0mnext\u001b[0m\u001b[0;34m(\u001b[0m\u001b[0mself\u001b[0m\u001b[0;34m.\u001b[0m\u001b[0mgen\u001b[0m\u001b[0;34m)\u001b[0m\u001b[0;34m\u001b[0m\u001b[0m\n\u001b[0m\u001b[1;32m     67\u001b[0m             \u001b[0;32mexcept\u001b[0m \u001b[0mStopIteration\u001b[0m\u001b[0;34m:\u001b[0m\u001b[0;34m\u001b[0m\u001b[0m\n",
      "\u001b[0;32m~/aurelien.bibaut@gmail.com/Data_PC/PhD_Berkeley/Courses/Deep_Reinforcement_Learning/deep_rl2/lib/python3.5/site-packages/tensorflow/python/framework/errors_impl.py\u001b[0m in \u001b[0;36mraise_exception_on_not_ok_status\u001b[0;34m()\u001b[0m\n\u001b[1;32m    465\u001b[0m           \u001b[0mcompat\u001b[0m\u001b[0;34m.\u001b[0m\u001b[0mas_text\u001b[0m\u001b[0;34m(\u001b[0m\u001b[0mpywrap_tensorflow\u001b[0m\u001b[0;34m.\u001b[0m\u001b[0mTF_Message\u001b[0m\u001b[0;34m(\u001b[0m\u001b[0mstatus\u001b[0m\u001b[0;34m)\u001b[0m\u001b[0;34m)\u001b[0m\u001b[0;34m,\u001b[0m\u001b[0;34m\u001b[0m\u001b[0m\n\u001b[0;32m--> 466\u001b[0;31m           pywrap_tensorflow.TF_GetCode(status))\n\u001b[0m\u001b[1;32m    467\u001b[0m   \u001b[0;32mfinally\u001b[0m\u001b[0;34m:\u001b[0m\u001b[0;34m\u001b[0m\u001b[0m\n",
      "\u001b[0;31mFailedPreconditionError\u001b[0m: Attempting to use uninitialized value nn_actions/thetas/theta1\n\t [[Node: nn_actions/thetas/theta1/read = Identity[T=DT_FLOAT, _class=[\"loc:@nn_actions/thetas/theta1\"], _device=\"/job:localhost/replica:0/task:0/cpu:0\"](nn_actions/thetas/theta1)]]",
      "\nDuring handling of the above exception, another exception occurred:\n",
      "\u001b[0;31mFailedPreconditionError\u001b[0m                   Traceback (most recent call last)",
      "\u001b[0;32m<ipython-input-8-1eeeb6fed2c1>\u001b[0m in \u001b[0;36m<module>\u001b[0;34m()\u001b[0m\n\u001b[1;32m      1\u001b[0m sess.run(pi, feed_dict={sy_ob_no: np.array([1, 0, 0, 0, 0, 0, 0])[None],\n\u001b[1;32m      2\u001b[0m                        \u001b[0madj_ph\u001b[0m\u001b[0;34m:\u001b[0m \u001b[0menv\u001b[0m\u001b[0;34m.\u001b[0m\u001b[0madjacency_matrix\u001b[0m\u001b[0;34m[\u001b[0m\u001b[0;32mNone\u001b[0m\u001b[0;34m]\u001b[0m\u001b[0;34m,\u001b[0m\u001b[0;34m\u001b[0m\u001b[0m\n\u001b[0;32m----> 3\u001b[0;31m                        graph_weights_ph: env.weight_matrix[None]})\n\u001b[0m",
      "\u001b[0;32m~/aurelien.bibaut@gmail.com/Data_PC/PhD_Berkeley/Courses/Deep_Reinforcement_Learning/deep_rl2/lib/python3.5/site-packages/tensorflow/python/client/session.py\u001b[0m in \u001b[0;36mrun\u001b[0;34m(self, fetches, feed_dict, options, run_metadata)\u001b[0m\n\u001b[1;32m    893\u001b[0m     \u001b[0;32mtry\u001b[0m\u001b[0;34m:\u001b[0m\u001b[0;34m\u001b[0m\u001b[0m\n\u001b[1;32m    894\u001b[0m       result = self._run(None, fetches, feed_dict, options_ptr,\n\u001b[0;32m--> 895\u001b[0;31m                          run_metadata_ptr)\n\u001b[0m\u001b[1;32m    896\u001b[0m       \u001b[0;32mif\u001b[0m \u001b[0mrun_metadata\u001b[0m\u001b[0;34m:\u001b[0m\u001b[0;34m\u001b[0m\u001b[0m\n\u001b[1;32m    897\u001b[0m         \u001b[0mproto_data\u001b[0m \u001b[0;34m=\u001b[0m \u001b[0mtf_session\u001b[0m\u001b[0;34m.\u001b[0m\u001b[0mTF_GetBuffer\u001b[0m\u001b[0;34m(\u001b[0m\u001b[0mrun_metadata_ptr\u001b[0m\u001b[0;34m)\u001b[0m\u001b[0;34m\u001b[0m\u001b[0m\n",
      "\u001b[0;32m~/aurelien.bibaut@gmail.com/Data_PC/PhD_Berkeley/Courses/Deep_Reinforcement_Learning/deep_rl2/lib/python3.5/site-packages/tensorflow/python/client/session.py\u001b[0m in \u001b[0;36m_run\u001b[0;34m(self, handle, fetches, feed_dict, options, run_metadata)\u001b[0m\n\u001b[1;32m   1122\u001b[0m     \u001b[0;32mif\u001b[0m \u001b[0mfinal_fetches\u001b[0m \u001b[0;32mor\u001b[0m \u001b[0mfinal_targets\u001b[0m \u001b[0;32mor\u001b[0m \u001b[0;34m(\u001b[0m\u001b[0mhandle\u001b[0m \u001b[0;32mand\u001b[0m \u001b[0mfeed_dict_tensor\u001b[0m\u001b[0;34m)\u001b[0m\u001b[0;34m:\u001b[0m\u001b[0;34m\u001b[0m\u001b[0m\n\u001b[1;32m   1123\u001b[0m       results = self._do_run(handle, final_targets, final_fetches,\n\u001b[0;32m-> 1124\u001b[0;31m                              feed_dict_tensor, options, run_metadata)\n\u001b[0m\u001b[1;32m   1125\u001b[0m     \u001b[0;32melse\u001b[0m\u001b[0;34m:\u001b[0m\u001b[0;34m\u001b[0m\u001b[0m\n\u001b[1;32m   1126\u001b[0m       \u001b[0mresults\u001b[0m \u001b[0;34m=\u001b[0m \u001b[0;34m[\u001b[0m\u001b[0;34m]\u001b[0m\u001b[0;34m\u001b[0m\u001b[0m\n",
      "\u001b[0;32m~/aurelien.bibaut@gmail.com/Data_PC/PhD_Berkeley/Courses/Deep_Reinforcement_Learning/deep_rl2/lib/python3.5/site-packages/tensorflow/python/client/session.py\u001b[0m in \u001b[0;36m_do_run\u001b[0;34m(self, handle, target_list, fetch_list, feed_dict, options, run_metadata)\u001b[0m\n\u001b[1;32m   1319\u001b[0m     \u001b[0;32mif\u001b[0m \u001b[0mhandle\u001b[0m \u001b[0;32mis\u001b[0m \u001b[0;32mNone\u001b[0m\u001b[0;34m:\u001b[0m\u001b[0;34m\u001b[0m\u001b[0m\n\u001b[1;32m   1320\u001b[0m       return self._do_call(_run_fn, self._session, feeds, fetches, targets,\n\u001b[0;32m-> 1321\u001b[0;31m                            options, run_metadata)\n\u001b[0m\u001b[1;32m   1322\u001b[0m     \u001b[0;32melse\u001b[0m\u001b[0;34m:\u001b[0m\u001b[0;34m\u001b[0m\u001b[0m\n\u001b[1;32m   1323\u001b[0m       \u001b[0;32mreturn\u001b[0m \u001b[0mself\u001b[0m\u001b[0;34m.\u001b[0m\u001b[0m_do_call\u001b[0m\u001b[0;34m(\u001b[0m\u001b[0m_prun_fn\u001b[0m\u001b[0;34m,\u001b[0m \u001b[0mself\u001b[0m\u001b[0;34m.\u001b[0m\u001b[0m_session\u001b[0m\u001b[0;34m,\u001b[0m \u001b[0mhandle\u001b[0m\u001b[0;34m,\u001b[0m \u001b[0mfeeds\u001b[0m\u001b[0;34m,\u001b[0m \u001b[0mfetches\u001b[0m\u001b[0;34m)\u001b[0m\u001b[0;34m\u001b[0m\u001b[0m\n",
      "\u001b[0;32m~/aurelien.bibaut@gmail.com/Data_PC/PhD_Berkeley/Courses/Deep_Reinforcement_Learning/deep_rl2/lib/python3.5/site-packages/tensorflow/python/client/session.py\u001b[0m in \u001b[0;36m_do_call\u001b[0;34m(self, fn, *args)\u001b[0m\n\u001b[1;32m   1338\u001b[0m         \u001b[0;32mexcept\u001b[0m \u001b[0mKeyError\u001b[0m\u001b[0;34m:\u001b[0m\u001b[0;34m\u001b[0m\u001b[0m\n\u001b[1;32m   1339\u001b[0m           \u001b[0;32mpass\u001b[0m\u001b[0;34m\u001b[0m\u001b[0m\n\u001b[0;32m-> 1340\u001b[0;31m       \u001b[0;32mraise\u001b[0m \u001b[0mtype\u001b[0m\u001b[0;34m(\u001b[0m\u001b[0me\u001b[0m\u001b[0;34m)\u001b[0m\u001b[0;34m(\u001b[0m\u001b[0mnode_def\u001b[0m\u001b[0;34m,\u001b[0m \u001b[0mop\u001b[0m\u001b[0;34m,\u001b[0m \u001b[0mmessage\u001b[0m\u001b[0;34m)\u001b[0m\u001b[0;34m\u001b[0m\u001b[0m\n\u001b[0m\u001b[1;32m   1341\u001b[0m \u001b[0;34m\u001b[0m\u001b[0m\n\u001b[1;32m   1342\u001b[0m   \u001b[0;32mdef\u001b[0m \u001b[0m_extend_graph\u001b[0m\u001b[0;34m(\u001b[0m\u001b[0mself\u001b[0m\u001b[0;34m)\u001b[0m\u001b[0;34m:\u001b[0m\u001b[0;34m\u001b[0m\u001b[0m\n",
      "\u001b[0;31mFailedPreconditionError\u001b[0m: Attempting to use uninitialized value nn_actions/thetas/theta1\n\t [[Node: nn_actions/thetas/theta1/read = Identity[T=DT_FLOAT, _class=[\"loc:@nn_actions/thetas/theta1\"], _device=\"/job:localhost/replica:0/task:0/cpu:0\"](nn_actions/thetas/theta1)]]\n\nCaused by op 'nn_actions/thetas/theta1/read', defined at:\n  File \"/usr/lib/python3.5/runpy.py\", line 184, in _run_module_as_main\n    \"__main__\", mod_spec)\n  File \"/usr/lib/python3.5/runpy.py\", line 85, in _run_code\n    exec(code, run_globals)\n  File \"/home/aurelien/aurelien.bibaut@gmail.com/Data_PC/PhD_Berkeley/Courses/Deep_Reinforcement_Learning/deep_rl2/lib/python3.5/site-packages/ipykernel_launcher.py\", line 16, in <module>\n    app.launch_new_instance()\n  File \"/home/aurelien/aurelien.bibaut@gmail.com/Data_PC/PhD_Berkeley/Courses/Deep_Reinforcement_Learning/deep_rl2/lib/python3.5/site-packages/traitlets/config/application.py\", line 658, in launch_instance\n    app.start()\n  File \"/home/aurelien/aurelien.bibaut@gmail.com/Data_PC/PhD_Berkeley/Courses/Deep_Reinforcement_Learning/deep_rl2/lib/python3.5/site-packages/ipykernel/kernelapp.py\", line 477, in start\n    ioloop.IOLoop.instance().start()\n  File \"/home/aurelien/aurelien.bibaut@gmail.com/Data_PC/PhD_Berkeley/Courses/Deep_Reinforcement_Learning/deep_rl2/lib/python3.5/site-packages/zmq/eventloop/ioloop.py\", line 177, in start\n    super(ZMQIOLoop, self).start()\n  File \"/home/aurelien/aurelien.bibaut@gmail.com/Data_PC/PhD_Berkeley/Courses/Deep_Reinforcement_Learning/deep_rl2/lib/python3.5/site-packages/tornado/ioloop.py\", line 888, in start\n    handler_func(fd_obj, events)\n  File \"/home/aurelien/aurelien.bibaut@gmail.com/Data_PC/PhD_Berkeley/Courses/Deep_Reinforcement_Learning/deep_rl2/lib/python3.5/site-packages/tornado/stack_context.py\", line 277, in null_wrapper\n    return fn(*args, **kwargs)\n  File \"/home/aurelien/aurelien.bibaut@gmail.com/Data_PC/PhD_Berkeley/Courses/Deep_Reinforcement_Learning/deep_rl2/lib/python3.5/site-packages/zmq/eventloop/zmqstream.py\", line 440, in _handle_events\n    self._handle_recv()\n  File \"/home/aurelien/aurelien.bibaut@gmail.com/Data_PC/PhD_Berkeley/Courses/Deep_Reinforcement_Learning/deep_rl2/lib/python3.5/site-packages/zmq/eventloop/zmqstream.py\", line 472, in _handle_recv\n    self._run_callback(callback, msg)\n  File \"/home/aurelien/aurelien.bibaut@gmail.com/Data_PC/PhD_Berkeley/Courses/Deep_Reinforcement_Learning/deep_rl2/lib/python3.5/site-packages/zmq/eventloop/zmqstream.py\", line 414, in _run_callback\n    callback(*args, **kwargs)\n  File \"/home/aurelien/aurelien.bibaut@gmail.com/Data_PC/PhD_Berkeley/Courses/Deep_Reinforcement_Learning/deep_rl2/lib/python3.5/site-packages/tornado/stack_context.py\", line 277, in null_wrapper\n    return fn(*args, **kwargs)\n  File \"/home/aurelien/aurelien.bibaut@gmail.com/Data_PC/PhD_Berkeley/Courses/Deep_Reinforcement_Learning/deep_rl2/lib/python3.5/site-packages/ipykernel/kernelbase.py\", line 283, in dispatcher\n    return self.dispatch_shell(stream, msg)\n  File \"/home/aurelien/aurelien.bibaut@gmail.com/Data_PC/PhD_Berkeley/Courses/Deep_Reinforcement_Learning/deep_rl2/lib/python3.5/site-packages/ipykernel/kernelbase.py\", line 235, in dispatch_shell\n    handler(stream, idents, msg)\n  File \"/home/aurelien/aurelien.bibaut@gmail.com/Data_PC/PhD_Berkeley/Courses/Deep_Reinforcement_Learning/deep_rl2/lib/python3.5/site-packages/ipykernel/kernelbase.py\", line 399, in execute_request\n    user_expressions, allow_stdin)\n  File \"/home/aurelien/aurelien.bibaut@gmail.com/Data_PC/PhD_Berkeley/Courses/Deep_Reinforcement_Learning/deep_rl2/lib/python3.5/site-packages/ipykernel/ipkernel.py\", line 196, in do_execute\n    res = shell.run_cell(code, store_history=store_history, silent=silent)\n  File \"/home/aurelien/aurelien.bibaut@gmail.com/Data_PC/PhD_Berkeley/Courses/Deep_Reinforcement_Learning/deep_rl2/lib/python3.5/site-packages/ipykernel/zmqshell.py\", line 533, in run_cell\n    return super(ZMQInteractiveShell, self).run_cell(*args, **kwargs)\n  File \"/home/aurelien/aurelien.bibaut@gmail.com/Data_PC/PhD_Berkeley/Courses/Deep_Reinforcement_Learning/deep_rl2/lib/python3.5/site-packages/IPython/core/interactiveshell.py\", line 2728, in run_cell\n    interactivity=interactivity, compiler=compiler, result=result)\n  File \"/home/aurelien/aurelien.bibaut@gmail.com/Data_PC/PhD_Berkeley/Courses/Deep_Reinforcement_Learning/deep_rl2/lib/python3.5/site-packages/IPython/core/interactiveshell.py\", line 2850, in run_ast_nodes\n    if self.run_code(code, result):\n  File \"/home/aurelien/aurelien.bibaut@gmail.com/Data_PC/PhD_Berkeley/Courses/Deep_Reinforcement_Learning/deep_rl2/lib/python3.5/site-packages/IPython/core/interactiveshell.py\", line 2910, in run_code\n    exec(code_obj, self.user_global_ns, self.user_ns)\n  File \"<ipython-input-2-7e7d49074859>\", line 2, in <module>\n    saver = tf.train.import_meta_graph('/tmp/saved_models/PG_MVC-sz=32-b=1000-12-02-2017-14:04:04-25.meta')\n  File \"/home/aurelien/aurelien.bibaut@gmail.com/Data_PC/PhD_Berkeley/Courses/Deep_Reinforcement_Learning/deep_rl2/lib/python3.5/site-packages/tensorflow/python/training/saver.py\", line 1698, in import_meta_graph\n    **kwargs)\n  File \"/home/aurelien/aurelien.bibaut@gmail.com/Data_PC/PhD_Berkeley/Courses/Deep_Reinforcement_Learning/deep_rl2/lib/python3.5/site-packages/tensorflow/python/framework/meta_graph.py\", line 656, in import_scoped_meta_graph\n    producer_op_list=producer_op_list)\n  File \"/home/aurelien/aurelien.bibaut@gmail.com/Data_PC/PhD_Berkeley/Courses/Deep_Reinforcement_Learning/deep_rl2/lib/python3.5/site-packages/tensorflow/python/framework/importer.py\", line 313, in import_graph_def\n    op_def=op_def)\n  File \"/home/aurelien/aurelien.bibaut@gmail.com/Data_PC/PhD_Berkeley/Courses/Deep_Reinforcement_Learning/deep_rl2/lib/python3.5/site-packages/tensorflow/python/framework/ops.py\", line 2630, in create_op\n    original_op=self._default_original_op, op_def=op_def)\n  File \"/home/aurelien/aurelien.bibaut@gmail.com/Data_PC/PhD_Berkeley/Courses/Deep_Reinforcement_Learning/deep_rl2/lib/python3.5/site-packages/tensorflow/python/framework/ops.py\", line 1204, in __init__\n    self._traceback = self._graph._extract_stack()  # pylint: disable=protected-access\n\nFailedPreconditionError (see above for traceback): Attempting to use uninitialized value nn_actions/thetas/theta1\n\t [[Node: nn_actions/thetas/theta1/read = Identity[T=DT_FLOAT, _class=[\"loc:@nn_actions/thetas/theta1\"], _device=\"/job:localhost/replica:0/task:0/cpu:0\"](nn_actions/thetas/theta1)]]\n"
     ]
    }
   ],
   "source": [
    "sess.run(pi, feed_dict={sy_ob_no: np.array([1, 0, 0, 0, 0, 0, 0])[None],\n",
    "                       adj_ph: env.adjacency_matrix[None],\n",
    "                       graph_weights_ph: env.weight_matrix[None]})"
   ]
  },
  {
   "cell_type": "code",
   "execution_count": null,
   "metadata": {},
   "outputs": [],
   "source": []
  }
 ],
 "metadata": {
  "kernelspec": {
   "display_name": "Python 3",
   "language": "python",
   "name": "python3"
  },
  "language_info": {
   "codemirror_mode": {
    "name": "ipython",
    "version": 3
   },
   "file_extension": ".py",
   "mimetype": "text/x-python",
   "name": "python",
   "nbconvert_exporter": "python",
   "pygments_lexer": "ipython3",
   "version": "3.5.2"
  }
 },
 "nbformat": 4,
 "nbformat_minor": 2
}

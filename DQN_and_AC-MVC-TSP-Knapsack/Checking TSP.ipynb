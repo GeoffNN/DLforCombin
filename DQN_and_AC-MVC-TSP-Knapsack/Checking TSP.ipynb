{
 "cells": [
  {
   "cell_type": "code",
   "execution_count": 1,
   "metadata": {},
   "outputs": [],
   "source": [
    "import tensorflow as tf\n",
    "import tsp_env\n",
    "import numpy as np"
   ]
  },
  {
   "cell_type": "code",
   "execution_count": 7,
   "metadata": {},
   "outputs": [
    {
     "data": {
      "text/plain": [
       "array([ 0.,  0.,  0.])"
      ]
     },
     "execution_count": 7,
     "metadata": {},
     "output_type": "execute_result"
    }
   ],
   "source": [
    "env = tsp_env.TSP_env(3)\n",
    "env.reset()"
   ]
  },
  {
   "cell_type": "code",
   "execution_count": 8,
   "metadata": {},
   "outputs": [
    {
     "data": {
      "text/plain": [
       "array([[ 0.        ,  0.53126678,  0.14754819],\n",
       "       [ 0.53126678,  0.        ,  0.67551077],\n",
       "       [ 0.14754819,  0.67551077,  0.        ]])"
      ]
     },
     "execution_count": 8,
     "metadata": {},
     "output_type": "execute_result"
    }
   ],
   "source": [
    "env.weight_matrix"
   ]
  },
  {
   "cell_type": "code",
   "execution_count": 9,
   "metadata": {},
   "outputs": [
    {
     "data": {
      "text/plain": [
       "(array([ 1.,  0.,  0.]), 0, False)"
      ]
     },
     "execution_count": 9,
     "metadata": {},
     "output_type": "execute_result"
    }
   ],
   "source": [
    "env.step(0)"
   ]
  },
  {
   "cell_type": "code",
   "execution_count": 10,
   "metadata": {},
   "outputs": [
    {
     "data": {
      "text/plain": [
       "0"
      ]
     },
     "execution_count": 10,
     "metadata": {},
     "output_type": "execute_result"
    }
   ],
   "source": [
    "env.compute_subtour_length()"
   ]
  },
  {
   "cell_type": "code",
   "execution_count": 11,
   "metadata": {},
   "outputs": [
    {
     "data": {
      "text/plain": [
       "(array([ 1.,  1.,  0.]), -1.0625335654188435, False)"
      ]
     },
     "execution_count": 11,
     "metadata": {},
     "output_type": "execute_result"
    }
   ],
   "source": [
    "env.step(1)"
   ]
  },
  {
   "cell_type": "code",
   "execution_count": 12,
   "metadata": {},
   "outputs": [
    {
     "data": {
      "text/plain": [
       "1.0625335654188435"
      ]
     },
     "execution_count": 12,
     "metadata": {},
     "output_type": "execute_result"
    }
   ],
   "source": [
    "env.compute_subtour_length()"
   ]
  },
  {
   "cell_type": "code",
   "execution_count": 14,
   "metadata": {},
   "outputs": [
    {
     "data": {
      "text/plain": [
       "(array([ 1.,  1.,  1.]), -0.2917921770452534, True)"
      ]
     },
     "execution_count": 14,
     "metadata": {},
     "output_type": "execute_result"
    }
   ],
   "source": [
    "env.step(2)"
   ]
  },
  {
   "cell_type": "code",
   "execution_count": 15,
   "metadata": {},
   "outputs": [
    {
     "data": {
      "text/plain": [
       "1.3543257424640969"
      ]
     },
     "execution_count": 15,
     "metadata": {},
     "output_type": "execute_result"
    }
   ],
   "source": [
    "env.compute_subtour_length()"
   ]
  },
  {
   "cell_type": "code",
   "execution_count": 16,
   "metadata": {},
   "outputs": [
    {
     "data": {
      "text/plain": [
       "0.2917921770452534"
      ]
     },
     "execution_count": 16,
     "metadata": {},
     "output_type": "execute_result"
    }
   ],
   "source": [
    "1.3543257424640969 - 1.0625335654188435"
   ]
  },
  {
   "cell_type": "code",
   "execution_count": 18,
   "metadata": {},
   "outputs": [],
   "source": [
    "import mvc_env\n",
    "env = mvc_env.MVC_env(7)"
   ]
  },
  {
   "cell_type": "code",
   "execution_count": 34,
   "metadata": {},
   "outputs": [],
   "source": [
    "returns = []\n",
    "for i in range(100):\n",
    "    env.reset()\n",
    "    best_return = -100\n",
    "    for i in range(100):\n",
    "        ret = env.at_random_solution()[0]\n",
    "        if ret > best_return:\n",
    "            best_return = ret\n",
    "    returns.append(best_return)"
   ]
  },
  {
   "cell_type": "code",
   "execution_count": 35,
   "metadata": {},
   "outputs": [
    {
     "data": {
      "text/plain": [
       "-2.0299999999999998"
      ]
     },
     "execution_count": 35,
     "metadata": {},
     "output_type": "execute_result"
    }
   ],
   "source": [
    "np.mean(returns)"
   ]
  },
  {
   "cell_type": "code",
   "execution_count": 27,
   "metadata": {},
   "outputs": [
    {
     "data": {
      "text/plain": [
       "[-2.0,\n",
       " -2.0,\n",
       " -2.0,\n",
       " -2.0,\n",
       " -2.0,\n",
       " -2.0,\n",
       " -2.0,\n",
       " -2.0,\n",
       " -2.0,\n",
       " -2.0,\n",
       " -2.0,\n",
       " -2.0,\n",
       " -2.0,\n",
       " -2.0,\n",
       " -2.0,\n",
       " -2.0,\n",
       " -2.0,\n",
       " -2.0,\n",
       " -2.0,\n",
       " -2.0,\n",
       " -2.0,\n",
       " -2.0,\n",
       " -2.0,\n",
       " -2.0,\n",
       " -2.0,\n",
       " -2.0,\n",
       " -2.0,\n",
       " -2.0,\n",
       " -2.0,\n",
       " -2.0,\n",
       " -2.0,\n",
       " -2.0,\n",
       " -2.0,\n",
       " -2.0,\n",
       " -2.0,\n",
       " -2.0,\n",
       " -2.0,\n",
       " -2.0,\n",
       " -2.0,\n",
       " -2.0,\n",
       " -2.0,\n",
       " -2.0,\n",
       " -2.0,\n",
       " -2.0,\n",
       " -2.0,\n",
       " -2.0,\n",
       " -2.0,\n",
       " -2.0,\n",
       " -2.0,\n",
       " -2.0,\n",
       " -2.0,\n",
       " -2.0,\n",
       " -2.0,\n",
       " -2.0,\n",
       " -2.0,\n",
       " -2.0,\n",
       " -2.0,\n",
       " -2.0,\n",
       " -2.0,\n",
       " -2.0,\n",
       " -2.0,\n",
       " -2.0,\n",
       " -2.0,\n",
       " -2.0,\n",
       " -2.0,\n",
       " -2.0,\n",
       " -2.0,\n",
       " -2.0,\n",
       " -2.0,\n",
       " -2.0,\n",
       " -2.0,\n",
       " -2.0,\n",
       " -2.0,\n",
       " -2.0,\n",
       " -2.0,\n",
       " -2.0,\n",
       " -2.0,\n",
       " -2.0,\n",
       " -2.0,\n",
       " -2.0,\n",
       " -2.0,\n",
       " -2.0,\n",
       " -2.0,\n",
       " -2.0,\n",
       " -2.0,\n",
       " -2.0,\n",
       " -2.0,\n",
       " -2.0,\n",
       " -2.0,\n",
       " -2.0,\n",
       " -2.0,\n",
       " -2.0,\n",
       " -2.0,\n",
       " -2.0,\n",
       " -2.0,\n",
       " -2.0,\n",
       " -2.0,\n",
       " -2.0,\n",
       " -2.0,\n",
       " -2.0]"
      ]
     },
     "execution_count": 27,
     "metadata": {},
     "output_type": "execute_result"
    }
   ],
   "source": [
    "returns"
   ]
  },
  {
   "cell_type": "code",
   "execution_count": null,
   "metadata": {},
   "outputs": [],
   "source": []
  }
 ],
 "metadata": {
  "kernelspec": {
   "display_name": "Python 3",
   "language": "python",
   "name": "python3"
  },
  "language_info": {
   "codemirror_mode": {
    "name": "ipython",
    "version": 3
   },
   "file_extension": ".py",
   "mimetype": "text/x-python",
   "name": "python",
   "nbconvert_exporter": "python",
   "pygments_lexer": "ipython3",
   "version": "3.5.2"
  }
 },
 "nbformat": 4,
 "nbformat_minor": 2
}

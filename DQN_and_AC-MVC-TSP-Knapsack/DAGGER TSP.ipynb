{
 "cells": [
  {
   "cell_type": "code",
   "execution_count": 1,
   "metadata": {},
   "outputs": [],
   "source": [
    "import tensorflow as tf\n",
    "import tsp_env\n",
    "import numpy as np\n",
    "import itertools\n",
    "import Q_function_graph_model\n",
    "import matplotlib.pyplot as plt\n",
    "%matplotlib inline"
   ]
  },
  {
   "cell_type": "code",
   "execution_count": 6,
   "metadata": {},
   "outputs": [],
   "source": [
    "n_cities = 5\n",
    "T = 4\n",
    "n_mlp_layers = 2\n",
    "p = 64\n",
    "n_dagger_steps = 10; max_steps_per_rollout = 10; \n",
    "n_rollouts = 50; n_gradient_steps = 20\n",
    "learning_rate = 1e-2"
   ]
  },
  {
   "cell_type": "code",
   "execution_count": 7,
   "metadata": {
    "scrolled": true
   },
   "outputs": [],
   "source": [
    "obs_ph = tf.placeholder(dtype=tf.float32, shape=[None, n_cities])\n",
    "expert_act_ph = tf.placeholder(dtype=tf.int32, shape=[None])\n",
    "adj_ph = tf.placeholder(tf.float32, [None, n_cities, n_cities],\n",
    "                            name='adj_ph')\n",
    "graph_weights_ph = tf.placeholder(tf.float32,\n",
    "                                  [None, n_cities, n_cities],\n",
    "                                  name='graph_weights_ph')\n",
    "\n",
    "action_logits_ph = Q_function_graph_model.Q_func(\n",
    "    obs_ph, adj_ph, graph_weights_ph,\n",
    "    p=p, T=T, scope='nn_actions',\n",
    "    initialization_stddev=1e-3,\n",
    "    reuse=False,\n",
    "    n_mlp_layers=n_mlp_layers\n",
    ")\n",
    "\n",
    "sampled_act_ph = tf.multinomial(action_logits_ph, 1)[0]\n",
    "\n",
    "loss = -tf.reduce_mean(tf.reduce_sum(tf.multiply(tf.nn.log_softmax(action_logits_ph),\n",
    "                     tf.one_hot(expert_act_ph, depth=n_cities)), axis = 1))\n",
    "update_op = tf.train.AdamOptimizer(learning_rate).minimize(loss)"
   ]
  },
  {
   "cell_type": "code",
   "execution_count": 8,
   "metadata": {},
   "outputs": [],
   "source": [
    "env = tsp_env.TSP_env(5, 0)\n",
    "sess = tf.InteractiveSession()\n",
    "tf.global_variables_initializer().run()"
   ]
  },
  {
   "cell_type": "code",
   "execution_count": 9,
   "metadata": {},
   "outputs": [
    {
     "name": "stdout",
     "output_type": "stream",
     "text": [
      "Mean rollout reward for DAGGER step  0 :  -2.56556462252\n",
      "Loss val at the end of DAGGER step  0 :  0.95921\n",
      "Mean rollout reward for DAGGER step  1 :  -2.50943626172\n",
      "Loss val at the end of DAGGER step  1 :  0.95658\n",
      "Mean rollout reward for DAGGER step  2 :  -2.41711421297\n",
      "Loss val at the end of DAGGER step  2 :  0.956181\n",
      "Mean rollout reward for DAGGER step  3 :  -2.64410972969\n",
      "Loss val at the end of DAGGER step  3 :  0.958867\n",
      "Mean rollout reward for DAGGER step  4 :  -2.50704293022\n",
      "Loss val at the end of DAGGER step  4 :  0.957216\n",
      "Mean rollout reward for DAGGER step  5 :  -2.63807069553\n",
      "Loss val at the end of DAGGER step  5 :  0.957331\n",
      "Mean rollout reward for DAGGER step  6 :  -2.53148450365\n",
      "Loss val at the end of DAGGER step  6 :  0.957245\n",
      "Mean rollout reward for DAGGER step  7 :  -2.66533787951\n",
      "Loss val at the end of DAGGER step  7 :  0.957059\n",
      "Mean rollout reward for DAGGER step  8 :  -2.66553042304\n",
      "Loss val at the end of DAGGER step  8 :  0.957021\n",
      "Mean rollout reward for DAGGER step  9 :  -2.60532238907\n",
      "Loss val at the end of DAGGER step  9 :  0.956954\n"
     ]
    }
   ],
   "source": [
    "data = {'observations': [], 'adj_matrices' : [], 'done': [],\n",
    "        'weight_matrices': [], 'expert_actions': []}\n",
    "for i in range(n_dagger_steps):\n",
    "    # Do n_rollouts rollouts under fitted policy\n",
    "    rewards = []\n",
    "    for j in range(n_rollouts):\n",
    "        n_env_steps = 0\n",
    "        state = env.reset()\n",
    "        total_reward = 0\n",
    "        while True:\n",
    "            # Get actions suggested by fitted policy and by expert policy \n",
    "            action_logits = sess.run(action_logits_ph,\n",
    "                             feed_dict={obs_ph: state[None],\n",
    "                                       adj_ph: env.adjacency_matrix[None],\n",
    "                                       graph_weights_ph: env.weight_matrix[None]})[0]\n",
    "            actions_ordered = np.argsort(action_logits)[::-1]\n",
    "            action = \n",
    "            for k in range(n_cities):\n",
    "                if env.binary_vector_state()[actions_ordered[k]] == 0:\n",
    "                    break\n",
    "            action = actions_ordered[k]\n",
    "            \n",
    "            expert_action = env.best_solution_from_now()[1][0]\n",
    "            \n",
    "            # Store data from current step\n",
    "            data['observations'].append(state)\n",
    "            data['adj_matrices'].append(env.adjacency_matrix)\n",
    "            data['weight_matrices'].append(env.weight_matrix)\n",
    "            data['expert_actions'].append(expert_action)\n",
    "            \n",
    "            \n",
    "            # Step the according to fitted policy\n",
    "            state, reward, done = env.step(action)\n",
    "            total_reward += reward\n",
    "            \n",
    "            data['done'].append(done)\n",
    "            \n",
    "            n_env_steps += 1\n",
    "            if done or n_env_steps > max_steps_per_rollout:\n",
    "                break\n",
    "        rewards.append(total_reward)\n",
    "        \n",
    "    print('Mean rollout reward for DAGGER step ', i, ': ', np.mean(rewards))\n",
    "    \n",
    "    # Perform training step\n",
    "    for j in range(n_gradient_steps):\n",
    "        loss_val, _ = sess.run([loss, update_op],\n",
    "                          feed_dict={obs_ph: np.array(data['observations']),\n",
    "                              adj_ph: np.array(data['adj_matrices']),\n",
    "                              graph_weights_ph: np.array(data['weight_matrices']),\n",
    "                              expert_act_ph: np.array(data['expert_actions'])})\n",
    "    print('Loss val at the end of DAGGER step ', i, ': ', loss_val)"
   ]
  },
  {
   "cell_type": "code",
   "execution_count": null,
   "metadata": {
    "scrolled": false
   },
   "outputs": [],
   "source": [
    "action_logits = sess.run(action_logits_ph, feed_dict={obs_ph: np.array(data['observations'])[1][None],\n",
    "                              adj_ph: np.array(data['adj_matrices'])[1][None],\n",
    "                              graph_weights_ph: np.array(data['weight_matrices'])[1][None],\n",
    "                              expert_act_ph: np.array(data['expert_actions'])[1][None]})"
   ]
  },
  {
   "cell_type": "code",
   "execution_count": null,
   "metadata": {},
   "outputs": [],
   "source": [
    "env.adjacency_matrix"
   ]
  },
  {
   "cell_type": "code",
   "execution_count": null,
   "metadata": {},
   "outputs": [],
   "source": [
    "env.step(actions_ordered[i])\n",
    "actions_ordered = np.argsort(action_logits)[0][::-1]\n",
    "for i in range(n_cities):\n",
    "    if env.binary_vector_state()[actions_ordered[i]] == 0:\n",
    "        break\n",
    "print(actions_ordered[i])\n",
    "env.best_solution_from_now()"
   ]
  },
  {
   "cell_type": "code",
   "execution_count": 10,
   "metadata": {},
   "outputs": [],
   "source": [
    "loss_vals = []\n",
    "for j in range(100):\n",
    "        loss_val, _ = sess.run([loss, update_op],\n",
    "                          feed_dict={obs_ph: np.array(data['observations']),\n",
    "                              adj_ph: np.array(data['adj_matrices']),\n",
    "                              graph_weights_ph: np.array(data['weight_matrices']),\n",
    "                              expert_act_ph: np.array(data['expert_actions'])})\n",
    "        loss_vals.append(loss_val)"
   ]
  },
  {
   "cell_type": "code",
   "execution_count": 11,
   "metadata": {
    "scrolled": false
   },
   "outputs": [
    {
     "data": {
      "text/plain": [
       "[<matplotlib.lines.Line2D at 0x7f22f366f748>]"
      ]
     },
     "execution_count": 11,
     "metadata": {},
     "output_type": "execute_result"
    },
    {
     "data": {
      "image/png": "[encoded data removed]",
      "text/plain": [
       "<matplotlib.figure.Figure at 0x7f233f75a320>"
      ]
     },
     "metadata": {},
     "output_type": "display_data"
    }
   ],
   "source": [
    "plt.plot(loss_vals)"
   ]
  },
  {
   "cell_type": "code",
   "execution_count": null,
   "metadata": {},
   "outputs": [],
   "source": []
  },
  {
   "cell_type": "code",
   "execution_count": null,
   "metadata": {},
   "outputs": [],
   "source": [
    "data['weight_matrices'][0][0, 1] = 1.5"
   ]
  },
  {
   "cell_type": "code",
   "execution_count": null,
   "metadata": {},
   "outputs": [],
   "source": [
    "sess.run(action_logits_ph,\n",
    "         feed_dict={obs_ph: np.array(data['observations']),\n",
    "                    adj_ph: np.array(data['adj_matrices']),\n",
    "                    graph_weights_ph: np.array(data['weight_matrices']),\n",
    "                    expert_act_ph: np.array(data['expert_actions'])})"
   ]
  },
  {
   "cell_type": "code",
   "execution_count": null,
   "metadata": {},
   "outputs": [],
   "source": [
    "data['weight_matrices'][0][1, 2] = 3\n",
    "sess.run(action_logits_ph,\n",
    "         feed_dict={obs_ph: np.array(data['observations']),\n",
    "                    adj_ph: np.array(data['adj_matrices']),\n",
    "                    graph_weights_ph: np.array(data['weight_matrices']),\n",
    "                    expert_act_ph: np.array(data['expert_actions'])})"
   ]
  },
  {
   "cell_type": "code",
   "execution_count": null,
   "metadata": {},
   "outputs": [],
   "source": [
    "at_random_rewards = []\n",
    "optimal_rewards = []\n",
    "for i in range(10000):\n",
    "    at_random_rewards.append(env.at_random_solution()[0])\n",
    "    optimal_rewards.append(env.optimal_solution()[0])\n",
    "print(np.mean(at_random_rewards))\n",
    "print(np.mean(optimal_rewards))"
   ]
  },
  {
   "cell_type": "code",
   "execution_count": null,
   "metadata": {},
   "outputs": [],
   "source": [
    "def policy_fn(state, env):\n",
    "    return sess.run()"
   ]
  },
  {
   "cell_type": "code",
   "execution_count": null,
   "metadata": {},
   "outputs": [],
   "source": [
    "env.reset()\n",
    "print(env.optimal_solution())\n",
    "env.step(0)\n",
    "print(env.best_solution_from_now())"
   ]
  },
  {
   "cell_type": "code",
   "execution_count": null,
   "metadata": {},
   "outputs": [],
   "source": [
    "env.reset()\n",
    "print(env.optimal_solution())\n",
    "env.step(1)\n",
    "print(env.best_solution_from_now())"
   ]
  },
  {
   "cell_type": "code",
   "execution_count": null,
   "metadata": {},
   "outputs": [],
   "source": [
    "data['observations'][0:5]"
   ]
  },
  {
   "cell_type": "code",
   "execution_count": null,
   "metadata": {},
   "outputs": [],
   "source": [
    "data['expert_actions'][0:5]"
   ]
  },
  {
   "cell_type": "code",
   "execution_count": null,
   "metadata": {},
   "outputs": [],
   "source": [
    "env.reset()\n",
    "env.weight_matrix = data['weight_matrices'][0]"
   ]
  },
  {
   "cell_type": "code",
   "execution_count": null,
   "metadata": {},
   "outputs": [],
   "source": [
    "env.optimal_solution()"
   ]
  }
 ],
 "metadata": {
  "kernelspec": {
   "display_name": "Python 3",
   "language": "python",
   "name": "python3"
  },
  "language_info": {
   "codemirror_mode": {
    "name": "ipython",
    "version": 3
   },
   "file_extension": ".py",
   "mimetype": "text/x-python",
   "name": "python",
   "nbconvert_exporter": "python",
   "pygments_lexer": "ipython3",
   "version": "3.5.2"
  }
 },
 "nbformat": 4,
 "nbformat_minor": 2
}

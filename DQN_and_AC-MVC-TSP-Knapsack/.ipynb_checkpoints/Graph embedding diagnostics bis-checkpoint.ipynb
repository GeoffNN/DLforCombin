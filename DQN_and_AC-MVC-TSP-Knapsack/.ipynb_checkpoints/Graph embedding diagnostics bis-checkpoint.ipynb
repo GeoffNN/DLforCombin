{
 "cells": [
  {
   "cell_type": "code",
   "execution_count": 1,
   "metadata": {},
   "outputs": [],
   "source": [
    "import tensorflow as tf\n",
    "import numpy as np\n",
    "import mvc_env"
   ]
  },
  {
   "cell_type": "code",
   "execution_count": 14,
   "metadata": {},
   "outputs": [],
   "source": [
    "p = 4; initialization_stddev=1e-3; n_mlp_layers = 1; T = 2; n_nodes = 5"
   ]
  },
  {
   "cell_type": "code",
   "execution_count": 15,
   "metadata": {},
   "outputs": [],
   "source": [
    "x = tf.placeholder(dtype=tf.float32, shape=[None, n_nodes])\n",
    "adj = tf.placeholder(tf.float32, [None, n_nodes, n_nodes])\n",
    "w = tf.placeholder(tf.float32, [None, n_nodes, n_nodes])"
   ]
  },
  {
   "cell_type": "code",
   "execution_count": 16,
   "metadata": {},
   "outputs": [],
   "source": [
    "with tf.variable_scope('Q_func', reuse=False):\n",
    "    with tf.variable_scope('thetas'):\n",
    "        theta1 = tf.Variable(tf.random_normal([p], stddev=initialization_stddev), name='theta1')\n",
    "        theta2 = tf.Variable(tf.random_normal([p, p], stddev=initialization_stddev), name='theta2')\n",
    "        theta3 = tf.Variable(tf.random_normal([p, p], stddev=initialization_stddev), name='theta3')\n",
    "        theta4 = tf.Variable(tf.random_normal([p], stddev=initialization_stddev), name='theta4')\n",
    "        theta5 = tf.Variable(tf.random_normal([2 * p], stddev=initialization_stddev), name='theta5')\n",
    "        theta6 = tf.Variable(tf.random_normal([p, p], stddev=initialization_stddev), name='theta6')\n",
    "        theta7 = tf.Variable(tf.random_normal([p, p], stddev=initialization_stddev), name='theta7')\n",
    "        \n",
    "    with tf.variable_scope('MLP', reuse=False):\n",
    "        Ws_MLP = []; bs_MLP = []\n",
    "        for i in range(n_mlp_layers):\n",
    "            Ws_MLP.append(tf.Variable(tf.random_normal([p, p], stddev=initialization_stddev),\n",
    "                                      name='W_MLP_' + str(i)))\n",
    "            bs_MLP.append(tf.Variable(tf.random_normal([p], stddev=initialization_stddev),\n",
    "                                      name='b_MLP_' + str(i)))\n",
    "        \n",
    "    # Define the mus\n",
    "    # Initial mu\n",
    "    # Loop over t\n",
    "    for t in range(T):\n",
    "        # First part of mu\n",
    "        mu_part1 = tf.einsum('iv,k->ivk', x, theta1)\n",
    "\n",
    "        # Second part of mu\n",
    "        if t != 0:\n",
    "            mu_part2 = tf.einsum('kl,ivk->ivl', theta2, tf.einsum('ivu,iuk->ivk', adj, mu))\n",
    "            # Add some non linear transformations of the pooled neighbors' embeddings\n",
    "            with tf.variable_scope('MLP', reuse=False):\n",
    "                for i in range(n_mlp_layers):\n",
    "                    mu_part2 = tf.nn.relu(tf.einsum('kl,ivk->ivl', Ws_MLP[i],\n",
    "                                                    tf.nn.relu(mu_part2)) + bs_MLP[i])\n",
    "\n",
    "        # Third part of mu\n",
    "        mu_part3_0 = tf.einsum('ikvu->ikv', tf.nn.relu(tf.einsum('k,ivu->ikvu', theta4, w)))\n",
    "        mu_part3_1 = tf.einsum('kl,ilv->ivk', theta3, mu_part3_0)\n",
    "\n",
    "        # All all of the parts of mu and apply ReLui\n",
    "        if t != 0:\n",
    "            mu = tf.nn.relu(tf.add(mu_part1 + mu_part2, mu_part3_1, name='mu_' + str(t)))\n",
    "        else:\n",
    "            mu = tf.nn.relu(tf.add(mu_part1, mu_part3_1, name='mu_' + str(t)))\n",
    "\n",
    "    # Define the Qs\n",
    "    Q_part1 = tf.einsum('kl,ivk->ivl', theta6, tf.einsum('ivu,iuk->ivk', adj, mu))\n",
    "    Q_part2 = tf.einsum('kl,ivk->ivl', theta7, mu)\n",
    "    out = tf.identity(tf.einsum('k,ivk->iv', theta5,\n",
    "                                 tf.nn.relu(tf.concat([Q_part1, Q_part2], axis=2))),\n",
    "                       name='Q')"
   ]
  },
  {
   "cell_type": "code",
   "execution_count": 5,
   "metadata": {},
   "outputs": [],
   "source": [
    "env = mvc_env.MVC_env(5); env.reset()"
   ]
  },
  {
   "cell_type": "code",
   "execution_count": 19,
   "metadata": {},
   "outputs": [
    {
     "data": {
      "text/plain": [
       "matrix([[ 0.,  0.,  0.,  1.,  0.],\n",
       "        [ 0.,  0.,  0.,  0.,  0.],\n",
       "        [ 0.,  0.,  0.,  0.,  0.],\n",
       "        [ 1.,  0.,  0.,  0.,  0.],\n",
       "        [ 0.,  0.,  0.,  0.,  0.]])"
      ]
     },
     "execution_count": 19,
     "metadata": {},
     "output_type": "execute_result"
    }
   ],
   "source": []
  },
  {
   "cell_type": "code",
   "execution_count": 17,
   "metadata": {},
   "outputs": [],
   "source": [
    "sess = tf.InteractiveSession(); tf.global_variables_initializer().run()"
   ]
  },
  {
   "cell_type": "code",
   "execution_count": 18,
   "metadata": {},
   "outputs": [
    {
     "data": {
      "text/plain": [
       "array([[[  0.00000000e+00,   6.79444172e-04,   0.00000000e+00,\n",
       "           7.26269616e-04],\n",
       "        [  1.26711873e-03,   6.67322529e-05,   2.41999820e-04,\n",
       "           1.47308398e-03],\n",
       "        [  1.26711873e-03,   6.67322529e-05,   2.41999820e-04,\n",
       "           1.47308398e-03],\n",
       "        [  1.26771955e-03,   6.55573458e-05,   2.42835304e-04,\n",
       "           1.47292414e-03],\n",
       "        [  1.26711873e-03,   6.67322529e-05,   2.41999820e-04,\n",
       "           1.47308398e-03]]], dtype=float32)"
      ]
     },
     "execution_count": 18,
     "metadata": {},
     "output_type": "execute_result"
    }
   ],
   "source": [
    "sess.run(mu, feed_dict={x: np.array([1, 0, 0, 0, 0])[None], \n",
    "                        adj: env.adjacency_matrix[None], \n",
    "                        w: env.weight_matrix[None]})"
   ]
  },
  {
   "cell_type": "code",
   "execution_count": 25,
   "metadata": {},
   "outputs": [
    {
     "data": {
      "text/plain": [
       "array([-0.00017452,  0.00013587, -0.00013121,  0.00084625], dtype=float32)"
      ]
     },
     "execution_count": 25,
     "metadata": {},
     "output_type": "execute_result"
    }
   ],
   "source": [
    "a = sess.run(theta3)\n",
    "sess.run(theta4)"
   ]
  },
  {
   "cell_type": "code",
   "execution_count": 28,
   "metadata": {},
   "outputs": [
    {
     "data": {
      "text/plain": [
       "array([[[ 0.        ,  0.        ,  0.        ,  0.        ,  0.        ],\n",
       "        [ 0.00013587,  0.        ,  0.        ,  0.00013587,  0.        ],\n",
       "        [ 0.        ,  0.        ,  0.        ,  0.        ,  0.        ],\n",
       "        [ 0.00084625,  0.        ,  0.        ,  0.00084625,  0.        ]]], dtype=float32)"
      ]
     },
     "execution_count": 28,
     "metadata": {},
     "output_type": "execute_result"
    }
   ],
   "source": [
    "sess.run(tf.einsum('ikvu->ikv', tf.nn.relu(tf.einsum('k,ivu->ikvu', theta4, w))), \n",
    "         feed_dict={w: env.weight_matrix[None]})"
   ]
  },
  {
   "cell_type": "code",
   "execution_count": null,
   "metadata": {},
   "outputs": [],
   "source": [
    "sess.run(tf.nn.relu(tf.einsum('k,ivu->ikv', theta4, w)),\n",
    "         feed_dict={w: env.weight_matrix[None]})"
   ]
  }
 ],
 "metadata": {
  "kernelspec": {
   "display_name": "Python 3",
   "language": "python",
   "name": "python3"
  },
  "language_info": {
   "codemirror_mode": {
    "name": "ipython",
    "version": 3
   },
   "file_extension": ".py",
   "mimetype": "text/x-python",
   "name": "python",
   "nbconvert_exporter": "python",
   "pygments_lexer": "ipython3",
   "version": "3.5.2"
  }
 },
 "nbformat": 4,
 "nbformat_minor": 2
}

{
 "cells": [
  {
   "cell_type": "code",
   "execution_count": 1,
   "metadata": {},
   "outputs": [],
   "source": [
    "import tensorflow as tf\n",
    "import numpy as no\n",
    "import tsp_env\n",
    "import mvc_env\n",
    "import "
   ]
  },
  {
   "cell_type": "code",
   "execution_count": 3,
   "metadata": {},
   "outputs": [
    {
     "name": "stdout",
     "output_type": "stream",
     "text": [
      "INFO:tensorflow:Restoring parameters from /tmp/saved_models/PG_MVC-sz=32-b=1000-12-02-2017-13:45:07-6\n"
     ]
    }
   ],
   "source": [
    "sess = tf.InteractiveSession()\n",
    "saver = tf.train.import_meta_graph('/tmp/saved_models/PG_MVC-sz=32-b=1000-12-02-2017-14:04:04-26.meta')\n",
    "saver.restore(sess, tf.train.latest_checkpoint('/tmp/saved_models/'))"
   ]
  },
  {
   "cell_type": "code",
   "execution_count": 4,
   "metadata": {},
   "outputs": [],
   "source": [
    "env = mvc_env.MVC_env(7, replay_penalty=2)"
   ]
  },
  {
   "cell_type": "code",
   "execution_count": 5,
   "metadata": {},
   "outputs": [],
   "source": [
    "graph = tf.get_default_graph()\n",
    "sy_ob_no = graph.get_tensor_by_name('ob:0')\n",
    "sy_ac_na = graph.get_tensor_by_name('ac:0')\n",
    "sy_adv_n = graph.get_tensor_by_name('adv:0')\n",
    "adj_ph = graph.get_tensor_by_name('adj_ph:0')\n",
    "graph_weights_ph = graph.get_tensor_by_name('graph_weights_ph:0')"
   ]
  },
  {
   "cell_type": "code",
   "execution_count": null,
   "metadata": {},
   "outputs": [],
   "source": []
  }
 ],
 "metadata": {
  "kernelspec": {
   "display_name": "Python 3",
   "language": "python",
   "name": "python3"
  },
  "language_info": {
   "codemirror_mode": {
    "name": "ipython",
    "version": 3
   },
   "file_extension": ".py",
   "mimetype": "text/x-python",
   "name": "python",
   "nbconvert_exporter": "python",
   "pygments_lexer": "ipython3",
   "version": "3.5.2"
  }
 },
 "nbformat": 4,
 "nbformat_minor": 2
}

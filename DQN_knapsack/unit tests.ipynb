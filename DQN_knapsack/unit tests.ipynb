{
 "cells": [
  {
   "cell_type": "code",
   "execution_count": 1,
   "metadata": {},
   "outputs": [],
   "source": [
    "from replay_buffer_knapsack import *\n",
    "from knapsack_env import *\n",
    "import numpy as np\n",
    "import tensorflow as tf\n",
    "import time"
   ]
  },
  {
   "cell_type": "code",
   "execution_count": 2,
   "metadata": {},
   "outputs": [],
   "source": [
    "ks = Knapsack(10, 1)"
   ]
  },
  {
   "cell_type": "code",
   "execution_count": 14,
   "metadata": {},
   "outputs": [
    {
     "name": "stdout",
     "output_type": "stream",
     "text": [
      "INFO:tensorflow:Restoring parameters from ./DQN_knapsack_model-learning_freq=4-460000\n"
     ]
    }
   ],
   "source": [
    "sess=tf.InteractiveSession() \n",
    "saver = tf.train.import_meta_graph('DQN_knapsack_model-learning_freq=4-450000.meta')\n",
    "saver.restore(sess, tf.train.latest_checkpoint('./'))"
   ]
  },
  {
   "cell_type": "code",
   "execution_count": 15,
   "metadata": {},
   "outputs": [],
   "source": [
    "graph = tf.get_default_graph()\n",
    "obs_t_ph = graph.get_tensor_by_name('obs_t_ph:0')\n",
    "act_t_ph = graph.get_tensor_by_name('act_t_ph:0')\n",
    "obs_tp1_ph = graph.get_tensor_by_name('obs_tp1_ph:0')"
   ]
  },
  {
   "cell_type": "code",
   "execution_count": 16,
   "metadata": {},
   "outputs": [],
   "source": [
    "Q = graph.get_tensor_by_name('q_func/Q_output/BiasAdd:0')\n",
    "target_Q = graph.get_tensor_by_name('target_q_func/Q_output/BiasAdd:0')"
   ]
  },
  {
   "cell_type": "code",
   "execution_count": 17,
   "metadata": {},
   "outputs": [
    {
     "data": {
      "text/plain": [
       "array([ 0.37240609,  0.09792384,  0.03733614,  0.65127895,  0.77088659,\n",
       "        0.24006911,  0.37159709,  0.46917842,  0.31136889,  0.9469951 ,\n",
       "        0.47977943,  0.2053691 ,  0.68140345,  0.57474918,  0.06622397,\n",
       "        0.88863718,  0.44074006,  0.70013001,  0.96598427,  0.62721508,\n",
       "        0.        ,  0.        ,  0.        ,  0.        ,  0.        ,\n",
       "        0.        ,  0.        ,  0.        ,  0.        ,  0.        ])"
      ]
     },
     "execution_count": 17,
     "metadata": {},
     "output_type": "execute_result"
    }
   ],
   "source": [
    "s = ks.reset()\n",
    "s"
   ]
  },
  {
   "cell_type": "code",
   "execution_count": 18,
   "metadata": {},
   "outputs": [
    {
     "data": {
      "text/plain": [
       "array([ 0.,  1.,  0.,  0.,  1.,  0.,  0.,  0.,  0.,  1.])"
      ]
     },
     "execution_count": 18,
     "metadata": {},
     "output_type": "execute_result"
    }
   ],
   "source": [
    "ks.optimal_solution()[1]"
   ]
  },
  {
   "cell_type": "code",
   "execution_count": 19,
   "metadata": {},
   "outputs": [
    {
     "name": "stdout",
     "output_type": "stream",
     "text": [
      "i =  0  - state:\n",
      "[[ 0.37240609  0.09792384  0.03733614  0.65127895  0.77088659  0.24006911\n",
      "   0.37159709  0.46917842  0.31136889  0.9469951 ]\n",
      " [ 0.47977943  0.2053691   0.68140345  0.57474918  0.06622397  0.88863718\n",
      "   0.44074006  0.70013001  0.96598427  0.62721508]\n",
      " [ 0.          0.          0.          0.          0.          0.          0.\n",
      "   0.          0.          0.        ]]\n",
      "Q_values:\n",
      "[ 0.53757703  0.26960829  0.22171406  0.83514005  0.90501523  0.41198078\n",
      "  0.5652591   0.62704682  0.47168934  1.10922921]\n",
      "Playing  9\n",
      "i =  1  - state:\n",
      "[[ 0.37240609  0.09792384  0.03733614  0.65127895  0.77088659  0.24006911\n",
      "   0.37159709  0.46917842  0.31136889  0.9469951 ]\n",
      " [ 0.47977943  0.2053691   0.68140345  0.57474918  0.06622397  0.88863718\n",
      "   0.44074006  0.70013001  0.96598427  0.62721508]\n",
      " [ 0.          0.          0.          0.          0.          0.          0.\n",
      "   0.          0.          1.        ]]\n",
      "Q_values:\n",
      "[ 0.54293728  0.2832469   0.217482    0.83753842  0.91502827  0.42984366\n",
      "  0.55049258  0.63075852  0.45807505  0.17521293]\n",
      "Playing  4\n",
      "i =  2  - state:\n",
      "[[ 0.37240609  0.09792384  0.03733614  0.65127895  0.77088659  0.24006911\n",
      "   0.37159709  0.46917842  0.31136889  0.9469951 ]\n",
      " [ 0.47977943  0.2053691   0.68140345  0.57474918  0.06622397  0.88863718\n",
      "   0.44074006  0.70013001  0.96598427  0.62721508]\n",
      " [ 0.          0.          0.          0.          1.          0.          0.\n",
      "   0.          0.          1.        ]]\n",
      "Q_values:\n",
      "[ 0.53165728  0.27721432  0.21832308  0.84920424  0.1659371   0.34283972\n",
      "  0.53172994  0.63446605  0.43900102  0.17200395]\n",
      "Playing  3\n",
      "i =  3  - state:\n",
      "[[ 0.37240609  0.09792384  0.03733614  0.65127895  0.77088659  0.24006911\n",
      "   0.37159709  0.46917842  0.31136889  0.9469951 ]\n",
      " [ 0.47977943  0.2053691   0.68140345  0.57474918  0.06622397  0.88863718\n",
      "   0.44074006  0.70013001  0.96598427  0.62721508]\n",
      " [ 0.          0.          0.          0.          1.          0.          0.\n",
      "   0.          0.          1.        ]]\n",
      "Q_values:\n",
      "[ 0.53165728  0.27721432  0.21832308  0.84920424  0.1659371   0.34283972\n",
      "  0.53172994  0.63446605  0.43900102  0.17200395]\n",
      "Playing  3\n",
      "i =  4  - state:\n",
      "[[ 0.37240609  0.09792384  0.03733614  0.65127895  0.77088659  0.24006911\n",
      "   0.37159709  0.46917842  0.31136889  0.9469951 ]\n",
      " [ 0.47977943  0.2053691   0.68140345  0.57474918  0.06622397  0.88863718\n",
      "   0.44074006  0.70013001  0.96598427  0.62721508]\n",
      " [ 0.          0.          0.          0.          1.          0.          0.\n",
      "   0.          0.          1.        ]]\n",
      "Q_values:\n",
      "[ 0.53165728  0.27721432  0.21832308  0.84920424  0.1659371   0.34283972\n",
      "  0.53172994  0.63446605  0.43900102  0.17200395]\n",
      "Playing  3\n",
      "Final state:\n",
      "[[ 0.37240609  0.09792384  0.03733614  0.65127895  0.77088659  0.24006911\n",
      "   0.37159709  0.46917842  0.31136889  0.9469951 ]\n",
      " [ 0.47977943  0.2053691   0.68140345  0.57474918  0.06622397  0.88863718\n",
      "   0.44074006  0.70013001  0.96598427  0.62721508]\n",
      " [ 0.          0.          0.          0.          1.          0.          0.\n",
      "   0.          0.          1.        ]]\n",
      "\n",
      "Accuracy 0.9\n"
     ]
    }
   ],
   "source": [
    "done = False\n",
    "for i in range(5):\n",
    "    print('i = ', i, ' - state:')\n",
    "    print(np.reshape(s, [3, 10]))\n",
    "    Q_val = sess.run(Q, {obs_t_ph: s[None]})\n",
    "    print('Q_values:')\n",
    "    print(Q_val[0])\n",
    "    print('Playing ', np.argmax(Q_val[0]))\n",
    "    s, rew, done, _ = ks.step(np.argmax(Q_val[0]))\n",
    "    if done: break\n",
    "\n",
    "print('Final state:')\n",
    "print(np.reshape(s, [3, 10]))\n",
    "\n",
    "print('\\nAccuracy', \n",
    "      np.mean(1 - np.abs(np.reshape(s, [3, 10])[2] - ks.optimal_solution()[1])))"
   ]
  },
  {
   "cell_type": "code",
   "execution_count": 20,
   "metadata": {},
   "outputs": [],
   "source": [
    "accuracies = []\n",
    "for i in range(10000):\n",
    "    s = ks.reset()\n",
    "    done = False\n",
    "    for i in range(10):\n",
    "        Q_val = sess.run(Q, {obs_t_ph: s[None]})\n",
    "        s, rew, done, _ = ks.step(np.argmax(Q_val[0]))\n",
    "        if done: break\n",
    "    accuracies.append(np.mean(1 - \\\n",
    "                              np.abs(np.reshape(s, [3, 10])[2] - \\\n",
    "                                     ks.optimal_solution()[1])))"
   ]
  },
  {
   "cell_type": "code",
   "execution_count": 21,
   "metadata": {},
   "outputs": [
    {
     "data": {
      "text/plain": [
       "0.7198"
      ]
     },
     "execution_count": 21,
     "metadata": {},
     "output_type": "execute_result"
    }
   ],
   "source": [
    "np.mean(accuracies)"
   ]
  },
  {
   "cell_type": "code",
   "execution_count": null,
   "metadata": {},
   "outputs": [],
   "source": []
  }
 ],
 "metadata": {
  "kernelspec": {
   "display_name": "Python 3",
   "language": "python",
   "name": "python3"
  },
  "language_info": {
   "codemirror_mode": {
    "name": "ipython",
    "version": 3
   },
   "file_extension": ".py",
   "mimetype": "text/x-python",
   "name": "python",
   "nbconvert_exporter": "python",
   "pygments_lexer": "ipython3",
   "version": "3.5.2"
  }
 },
 "nbformat": 4,
 "nbformat_minor": 2
}

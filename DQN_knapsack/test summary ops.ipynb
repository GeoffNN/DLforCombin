{
 "cells": [
  {
   "cell_type": "code",
   "execution_count": 1,
   "metadata": {},
   "outputs": [],
   "source": [
    "import numpy as np\n",
    "import tensorflow as tf"
   ]
  },
  {
   "cell_type": "code",
   "execution_count": 2,
   "metadata": {},
   "outputs": [
    {
     "data": {
      "text/plain": [
       "<tf.Tensor 'loss:0' shape=() dtype=string>"
      ]
     },
     "execution_count": 2,
     "metadata": {},
     "output_type": "execute_result"
    }
   ],
   "source": [
    "p = 3\n",
    "x_ph = tf.placeholder(tf.float32, [None, p], name='x_ph')\n",
    "beta = tf.Variable(tf.random_normal([p,1]), name='beta')\n",
    "y_pred = tf.matmul(x_ph, beta)\n",
    "y_obs_ph  = tf.placeholder(tf.float32, [None], name='y_obs_ph')\n",
    "loss = tf.losses.mean_squared_error(labels = y_obs_ph, predictions = tf.squeeze(y_pred, [1]))\n",
    "update_op = tf.train.AdamOptimizer(0.01).minimize(loss)\n",
    "tf.summary.scalar('loss', loss)"
   ]
  },
  {
   "cell_type": "code",
   "execution_count": 3,
   "metadata": {},
   "outputs": [],
   "source": [
    "merged = tf.summary.merge_all()\n",
    "sess = tf.InteractiveSession()\n",
    "train_writer = tf.summary.FileWriter('/tmp/OLS',\n",
    "                                      sess.graph)\n",
    "tf.global_variables_initializer().run()"
   ]
  },
  {
   "cell_type": "code",
   "execution_count": 6,
   "metadata": {},
   "outputs": [
    {
     "data": {
      "text/plain": [
       "array([1, 1, 0, 1, 1, 0, 1])"
      ]
     },
     "execution_count": 6,
     "metadata": {},
     "output_type": "execute_result"
    }
   ],
   "source": [
    "1 - np.array([0, 0, 1, 0, 0, 1, 0])"
   ]
  },
  {
   "cell_type": "code",
   "execution_count": 4,
   "metadata": {},
   "outputs": [],
   "source": [
    "n = 100\n",
    "x = np.reshape(np.random.rand(n * p), [n, p])\n",
    "beta0 = np.array([0.5, 5, 1])\n",
    "y = x.dot(beta0) + 0.01 * np.random.randn(n)"
   ]
  },
  {
   "cell_type": "code",
   "execution_count": 5,
   "metadata": {},
   "outputs": [
    {
     "name": "stdout",
     "output_type": "stream",
     "text": [
      "9.38762\n",
      "8.55755\n",
      "7.78527\n",
      "7.0755\n",
      "6.42969\n",
      "5.84666\n",
      "5.32361\n",
      "4.85686\n",
      "4.44231\n",
      "4.07577\n"
     ]
    }
   ],
   "source": [
    "for i in range(100): \n",
    "    _, loss_val, summary = sess.run([update_op, loss, merged], feed_dict={x_ph: x, y_obs_ph: y})\n",
    "    if i % 10 == 0: \n",
    "        print(loss_val)\n",
    "        train_writer.add_summary(summary, i)\n",
    "        train_writer.flush()\n",
    "        # sess.run(train_writer, feed_dict={})"
   ]
  },
  {
   "cell_type": "code",
   "execution_count": null,
   "metadata": {},
   "outputs": [],
   "source": []
  }
 ],
 "metadata": {
  "kernelspec": {
   "display_name": "Python 3",
   "language": "python",
   "name": "python3"
  },
  "language_info": {
   "codemirror_mode": {
    "name": "ipython",
    "version": 3
   },
   "file_extension": ".py",
   "mimetype": "text/x-python",
   "name": "python",
   "nbconvert_exporter": "python",
   "pygments_lexer": "ipython3",
   "version": "3.5.2"
  }
 },
 "nbformat": 4,
 "nbformat_minor": 2
}
